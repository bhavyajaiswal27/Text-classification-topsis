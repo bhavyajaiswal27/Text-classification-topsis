{
  "nbformat": 4,
  "nbformat_minor": 0,
  "metadata": {
    "colab": {
      "provenance": [],
      "authorship_tag": "ABX9TyNxhFLy0j+EyL5RikLKInLU",
      "include_colab_link": true
    },
    "kernelspec": {
      "name": "python3",
      "display_name": "Python 3"
    },
    "language_info": {
      "name": "python"
    }
  },
  "cells": [
    {
      "cell_type": "markdown",
      "metadata": {
        "id": "view-in-github",
        "colab_type": "text"
      },
      "source": [
        "<a href=\"https://colab.research.google.com/github/bhavyajaiswal27/Text-classification-topsis/blob/main/Untitled3.ipynb\" target=\"_parent\"><img src=\"https://colab.research.google.com/assets/colab-badge.svg\" alt=\"Open In Colab\"/></a>"
      ]
    },
    {
      "cell_type": "code",
      "execution_count": null,
      "metadata": {
        "id": "YjIkayN8p-c_"
      },
      "outputs": [],
      "source": [
        "import nltk\n",
        "import numpy as np\n",
        "import pandas as pd\n",
        "import time\n",
        "import matplotlib.pyplot as plt\n",
        "from nltk.corpus import movie_reviews\n",
        "from sklearn.feature_extraction.text import TfidfVectorizer\n",
        "from sklearn.model_selection import train_test_split\n",
        "from sklearn.naive_bayes import MultinomialNB\n",
        "from sklearn.svm import SVC\n",
        "from sklearn.ensemble import RandomForestClassifier\n",
        "from sklearn.metrics import accuracy_score, precision_score, recall_score, f1_score\n",
        "from sklearn.preprocessing import MinMaxScaler\n",
        "from tensorflow.keras.models import Sequential\n",
        "from tensorflow.keras.layers import Embedding, LSTM, Dense, SpatialDropout1D\n",
        "from tensorflow.keras.preprocessing.text import Tokenizer\n",
        "from tensorflow.keras.preprocessing.sequence import pad_sequences"
      ]
    },
    {
      "cell_type": "code",
      "source": [
        "nltk.download(\"movie_reviews\")\n",
        "\n",
        "documents = [(movie_reviews.raw(fileid), category)\n",
        "             for category in movie_reviews.categories()\n",
        "             for fileid in movie_reviews.fileids(category)]\n",
        "np.random.shuffle(documents)\n",
        "texts = [doc[0] for doc in documents]\n",
        "labels = [1 if doc[1] == \"pos\" else 0 for doc in documents]"
      ],
      "metadata": {
        "colab": {
          "base_uri": "https://localhost:8080/"
        },
        "id": "3LaHHr71rS4H",
        "outputId": "a64e58a2-44a9-430d-9bc1-6fbc42b1bf05"
      },
      "execution_count": null,
      "outputs": [
        {
          "output_type": "stream",
          "name": "stderr",
          "text": [
            "[nltk_data] Downloading package movie_reviews to /root/nltk_data...\n",
            "[nltk_data]   Package movie_reviews is already up-to-date!\n"
          ]
        }
      ]
    },
    {
      "cell_type": "code",
      "source": [
        "X_train, X_test, y_train, y_test = train_test_split(texts, labels, test_size=0.2, random_state=42)"
      ],
      "metadata": {
        "id": "DolX1R9zs9xT"
      },
      "execution_count": null,
      "outputs": []
    },
    {
      "cell_type": "code",
      "source": [
        "vectorizer = TfidfVectorizer(stop_words=\"english\", max_features=5000)\n",
        "X_train_tfidf = vectorizer.fit_transform(X_train)\n",
        "X_test_tfidf = vectorizer.transform(X_test)"
      ],
      "metadata": {
        "id": "hXVLd82MtB7P"
      },
      "execution_count": null,
      "outputs": []
    },
    {
      "cell_type": "code",
      "source": [
        "models = {\n",
        "    \"Naïve Bayes\": MultinomialNB(),\n",
        "    \"SVM\": SVC(),\n",
        "    \"Random Forest\": RandomForestClassifier()\n",
        "}\n",
        "performance = []\n",
        "\n",
        "for model_name, model in models.items():\n",
        "    start_time = time.time()\n",
        "    model.fit(X_train_tfidf, y_train)\n",
        "    y_pred = model.predict(X_test_tfidf)\n",
        "    end_time = time.time()\n",
        "    accuracy = accuracy_score(y_test, y_pred)\n",
        "    precision = precision_score(y_test, y_pred)\n",
        "    recall = recall_score(y_test, y_pred)\n",
        "    f1 = f1_score(y_test, y_pred)\n",
        "    inference_time = end_time - start_time\n",
        "    performance.append([accuracy, precision, recall, f1, inference_time])"
      ],
      "metadata": {
        "id": "8EcFOlButEU1"
      },
      "execution_count": null,
      "outputs": []
    },
    {
      "cell_type": "code",
      "source": [
        "max_words = 5000\n",
        "max_len = 500\n",
        "tokenizer = Tokenizer(num_words=max_words, oov_token=\"<OOV>\")\n",
        "tokenizer.fit_on_texts(X_train)\n",
        "X_train_seq = pad_sequences(tokenizer.texts_to_sequences(X_train), maxlen=max_len)\n",
        "X_test_seq = pad_sequences(tokenizer.texts_to_sequences(X_test), maxlen=max_len)\n",
        "model = Sequential([\n",
        "    Embedding(input_dim=max_words, output_dim=100, input_length=max_len),\n",
        "    SpatialDropout1D(0.2),\n",
        "    LSTM(100, dropout=0.2, recurrent_dropout=0.2),\n",
        "    Dense(1, activation='sigmoid')\n",
        "])\n",
        "model.compile(loss='binary_crossentropy', optimizer='adam', metrics=['accuracy'])\n",
        "model.fit(X_train_seq, np.array(y_train), epochs=3, batch_size=64, validation_data=(X_test_seq, np.array(y_test)))\n"
      ],
      "metadata": {
        "colab": {
          "base_uri": "https://localhost:8080/"
        },
        "id": "JTju-49atGYo",
        "outputId": "9ef03ee8-13db-4b52-b0e0-4d469a223260"
      },
      "execution_count": null,
      "outputs": [
        {
          "output_type": "stream",
          "name": "stdout",
          "text": [
            "Epoch 1/3\n"
          ]
        },
        {
          "output_type": "stream",
          "name": "stderr",
          "text": [
            "/usr/local/lib/python3.11/dist-packages/keras/src/layers/core/embedding.py:90: UserWarning: Argument `input_length` is deprecated. Just remove it.\n",
            "  warnings.warn(\n"
          ]
        },
        {
          "output_type": "stream",
          "name": "stdout",
          "text": [
            "\u001b[1m25/25\u001b[0m \u001b[32m━━━━━━━━━━━━━━━━━━━━\u001b[0m\u001b[37m\u001b[0m \u001b[1m49s\u001b[0m 2s/step - accuracy: 0.5198 - loss: 0.6926 - val_accuracy: 0.5800 - val_loss: 0.6906\n",
            "Epoch 2/3\n",
            "\u001b[1m25/25\u001b[0m \u001b[32m━━━━━━━━━━━━━━━━━━━━\u001b[0m\u001b[37m\u001b[0m \u001b[1m37s\u001b[0m 1s/step - accuracy: 0.6893 - loss: 0.6818 - val_accuracy: 0.5575 - val_loss: 0.6834\n",
            "Epoch 3/3\n",
            "\u001b[1m25/25\u001b[0m \u001b[32m━━━━━━━━━━━━━━━━━━━━\u001b[0m\u001b[37m\u001b[0m \u001b[1m35s\u001b[0m 1s/step - accuracy: 0.6499 - loss: 0.6317 - val_accuracy: 0.6150 - val_loss: 0.6439\n"
          ]
        },
        {
          "output_type": "execute_result",
          "data": {
            "text/plain": [
              "<keras.src.callbacks.history.History at 0x791dc0b10290>"
            ]
          },
          "metadata": {},
          "execution_count": 22
        }
      ]
    },
    {
      "cell_type": "code",
      "source": [
        "start_time = time.time()\n",
        "y_pred_lstm = (model.predict(X_test_seq) > 0.5).astype(\"int32\").flatten()\n",
        "end_time = time.time()\n",
        "accuracy = accuracy_score(y_test, y_pred_lstm)\n",
        "precision = precision_score(y_test, y_pred_lstm)\n",
        "recall = recall_score(y_test, y_pred_lstm)\n",
        "f1 = f1_score(y_test, y_pred_lstm)\n",
        "inference_time = end_time - start_time\n",
        "performance.append([accuracy, precision, recall, f1, inference_time])"
      ],
      "metadata": {
        "colab": {
          "base_uri": "https://localhost:8080/"
        },
        "id": "daPwpc_BtT5I",
        "outputId": "4b5ede7c-c1e8-4f06-f0ba-bd1ed4b64534"
      },
      "execution_count": null,
      "outputs": [
        {
          "output_type": "stream",
          "name": "stdout",
          "text": [
            "\u001b[1m13/13\u001b[0m \u001b[32m━━━━━━━━━━━━━━━━━━━━\u001b[0m\u001b[37m\u001b[0m \u001b[1m4s\u001b[0m 236ms/step\n"
          ]
        }
      ]
    },
    {
      "cell_type": "code",
      "source": [
        "performance = np.array(performance)\n",
        "weights = np.array([0.3, 0.2, 0.2, 0.2, 0.1])\n",
        "benefit_criteria = np.array([1, 1, 1, 1, 0])\n",
        "scaler = MinMaxScaler()\n",
        "normalized_performance = scaler.fit_transform(performance)\n",
        "weighted_matrix = normalized_performance * weights\n",
        "ideal_best = np.max(weighted_matrix, axis=0) * benefit_criteria + np.min(weighted_matrix, axis=0) * (1 - benefit_criteria)\n",
        "ideal_worst = np.min(weighted_matrix, axis=0) * benefit_criteria + np.max(weighted_matrix, axis=0) * (1 - benefit_criteria)\n",
        "distance_best = np.sqrt(np.sum((weighted_matrix - ideal_best) ** 2, axis=1))\n",
        "distance_worst = np.sqrt(np.sum((weighted_matrix - ideal_worst) ** 2, axis=1))\n",
        "topsis_scores = distance_worst / (distance_best + distance_worst)"
      ],
      "metadata": {
        "id": "slgPiLS_uEdw"
      },
      "execution_count": null,
      "outputs": []
    },
    {
      "cell_type": "code",
      "source": [
        "results_df = pd.DataFrame({\n",
        "    \"Model\": list(models.keys()) + [\"LSTM\"],\n",
        "    \"TOPSIS Score\": topsis_scores\n",
        "}).set_index(\"Model\")"
      ],
      "metadata": {
        "id": "XG4VwTKRuF1n"
      },
      "execution_count": null,
      "outputs": []
    },
    {
      "cell_type": "code",
      "source": [
        "plt.figure(figsize=(8, 5))\n",
        "plt.bar(results_df.index, results_df[\"TOPSIS Score\"], color=['blue', 'green', 'red', 'purple'])\n",
        "plt.xlabel(\"Models\")\n",
        "plt.ylabel(\"TOPSIS Score\")\n",
        "plt.title(\"TOPSIS Ranking of Text Classification Models\")\n",
        "plt.ylim(0, 1)\n",
        "plt.show()"
      ],
      "metadata": {
        "colab": {
          "base_uri": "https://localhost:8080/",
          "height": 487
        },
        "id": "UKdBgna0uI1U",
        "outputId": "de0be639-d96d-43b4-bae9-d70fe33de2e8"
      },
      "execution_count": null,
      "outputs": [
        {
          "output_type": "display_data",
          "data": {
            "text/plain": [
              "<Figure size 800x500 with 1 Axes>"
            ],
            "image/png": "[encoded data removed]"
          },
          "metadata": {}
        }
      ]
    },
    {
      "cell_type": "code",
      "source": [
        "print(results_df.sort_values(by='TOPSIS Score', ascending=False))"
      ],
      "metadata": {
        "colab": {
          "base_uri": "https://localhost:8080/"
        },
        "id": "HLdrzIjVuKq6",
        "outputId": "a0fb1135-f3bb-4886-c5af-319e4ea194bb"
      },
      "execution_count": null,
      "outputs": [
        {
          "output_type": "stream",
          "name": "stdout",
          "text": [
            "               TOPSIS Score\n",
            "Model                      \n",
            "Naïve Bayes        0.925669\n",
            "Random Forest      0.779485\n",
            "SVM                0.746281\n",
            "LSTM               0.066014\n"
          ]
        }
      ]
    },
    {
      "cell_type": "code",
      "source": [],
      "metadata": {
        "id": "IpV_ieaJuqxL"
      },
      "execution_count": null,
      "outputs": []
    }
  ]
}